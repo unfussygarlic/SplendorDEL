{
 "cells": [
  {
   "cell_type": "code",
   "execution_count": 32,
   "metadata": {},
   "outputs": [],
   "source": [
    "import numpy as np\n",
    "from itertools import combinations"
   ]
  },
  {
   "cell_type": "code",
   "execution_count": 43,
   "metadata": {},
   "outputs": [],
   "source": [
    "n_coins = 5\n",
    "coins = {\"r\": n_coins,\n",
    "        \"b\": 1,\n",
    "        \"bl\": 1,\n",
    "        \"w\": 0,\n",
    "        \"g\": n_coins}"
   ]
  },
  {
   "cell_type": "code",
   "execution_count": 37,
   "metadata": {},
   "outputs": [],
   "source": [
    "def separateCoins(coins):\n",
    "    high_coins = []\n",
    "    low_coins = []\n",
    "    null_coins = []\n",
    "    for keys in coins.keys():\n",
    "        if coins[keys] > 1:\n",
    "            high_coins.append(keys)\n",
    "        elif coins[keys] == 1:\n",
    "            low_coins.append(keys)\n",
    "        else:\n",
    "            null_coins.append(keys)\n",
    "    \n",
    "    return high_coins, low_coins, null_coins\n",
    "\n",
    "def getCombinations(colors, t):\n",
    "    if t == 3:\n",
    "        thrice = list(combinations(colors, r = 3))\n",
    "        return thrice\n",
    "    if t == 2:\n",
    "        twice = []\n",
    "        for i in colors:\n",
    "            twice.append((i, i))\n",
    "        return twice\n",
    "\n",
    "def filterCoin(combinations, coin):\n",
    "    filter = []\n",
    "    for comb in combinations:\n",
    "        if coin in comb:\n",
    "            filter.append(comb)\n",
    "    \n",
    "    return filter"
   ]
  },
  {
   "cell_type": "code",
   "execution_count": 44,
   "metadata": {},
   "outputs": [],
   "source": [
    "worlds = []\n",
    "high_coins, low_coins, null_coins = separateCoins(coins)\n",
    "if high_coins:\n",
    "    worlds += getCombinations(high_coins, 3)\n",
    "    worlds += getCombinations(high_coins, 2)\n",
    "if low_coins:\n",
    "    for coin in low_coins:\n",
    "        low_set = high_coins + low_coins\n",
    "        unfiltered = getCombinations(low_set, 3)\n",
    "        worlds += filterCoin(unfiltered, coin)"
   ]
  },
  {
   "cell_type": "code",
   "execution_count": 36,
   "metadata": {},
   "outputs": [
    {
     "name": "stdout",
     "output_type": "stream",
     "text": [
      "[('r', 'b', 'w'), ('r', 'b', 'g'), ('r', 'b', 'bl'), ('r', 'w', 'g'), ('r', 'w', 'bl'), ('r', 'g', 'bl'), ('b', 'w', 'g'), ('b', 'w', 'bl'), ('b', 'g', 'bl'), ('w', 'g', 'bl')]\n"
     ]
    }
   ],
   "source": [
    "print(unfiltered)"
   ]
  },
  {
   "cell_type": "code",
   "execution_count": 45,
   "metadata": {},
   "outputs": [
    {
     "data": {
      "text/plain": [
       "[('r', 'r'),\n",
       " ('g', 'g'),\n",
       " ('r', 'g', 'b'),\n",
       " ('r', 'b', 'bl'),\n",
       " ('g', 'b', 'bl'),\n",
       " ('r', 'g', 'bl'),\n",
       " ('r', 'b', 'bl'),\n",
       " ('g', 'b', 'bl')]"
      ]
     },
     "execution_count": 45,
     "metadata": {},
     "output_type": "execute_result"
    }
   ],
   "source": [
    "worlds"
   ]
  }
 ],
 "metadata": {
  "kernelspec": {
   "display_name": "Python 3",
   "language": "python",
   "name": "python3"
  },
  "language_info": {
   "codemirror_mode": {
    "name": "ipython",
    "version": 3
   },
   "file_extension": ".py",
   "mimetype": "text/x-python",
   "name": "python",
   "nbconvert_exporter": "python",
   "pygments_lexer": "ipython3",
   "version": "3.6.10"
  }
 },
 "nbformat": 4,
 "nbformat_minor": 4
}
