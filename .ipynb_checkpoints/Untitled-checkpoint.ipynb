{
 "cells": [
  {
   "cell_type": "code",
   "execution_count": 2,
   "metadata": {},
   "outputs": [],
   "source": [
    "import numpy as np\n",
    "from itertools import combinations"
   ]
  },
  {
   "cell_type": "code",
   "execution_count": 14,
   "metadata": {},
   "outputs": [],
   "source": [
    "n_coins = 5\n",
    "coins = {\"r\": n_coins,\n",
    "        \"b\": n_coins,\n",
    "        \"bl\": 1,\n",
    "        \"w\": n_coins,\n",
    "        \"g\": n_coins}"
   ]
  },
  {
   "cell_type": "code",
   "execution_count": 24,
   "metadata": {},
   "outputs": [],
   "source": [
    "def separateCoins(coins):\n",
    "    high_coins = []\n",
    "    low_coins = []\n",
    "    null_coins = []\n",
    "    for keys in coins.keys():\n",
    "        if coins[keys] > 1:\n",
    "            high_coins.append(keys)\n",
    "        elif coins[keys] == 1:\n",
    "            low_coins.append(keys)\n",
    "        else:\n",
    "            null_coins.append(keys)\n",
    "    \n",
    "    return high_coins, low_coins, null_coins\n",
    "\n",
    "def getCombinations(colors, t):\n",
    "    if t == 3:\n",
    "        thrice = list(combinations(colors, r = 3))\n",
    "        return thrice\n",
    "    if t == 2:\n",
    "        twice = []\n",
    "        for i in colors:\n",
    "            twice.append((i, i))\n",
    "        return twice\n",
    "\n",
    "def filterCoin(combinations, coin):\n",
    "    filter = []\n",
    "    for comb in combinations:\n",
    "        if coin in comb:\n",
    "            filter.append(coin)\n",
    "    \n",
    "    return filter"
   ]
  },
  {
   "cell_type": "code",
   "execution_count": 27,
   "metadata": {},
   "outputs": [
    {
     "data": {
      "text/plain": [
       "[('r', 'b', 'w'), ('r', 'b', 'g'), ('r', 'w', 'g'), ('b', 'w', 'g')]"
      ]
     },
     "execution_count": 27,
     "metadata": {},
     "output_type": "execute_result"
    }
   ],
   "source": [
    "[*getCombinations(high_coins, 3)]"
   ]
  },
  {
   "cell_type": "code",
   "execution_count": 16,
   "metadata": {},
   "outputs": [],
   "source": [
    "combinations = []\n",
    "high_coins, low_coins, null_coins = separateCoins(coins)\n",
    "if high_coins:\n",
    "    combinations += getCombinations(high_coins, 3)\n",
    "if low_coins:\n",
    "    for coin in low_coins:\n",
    "        "
   ]
  },
  {
   "cell_type": "code",
   "execution_count": 19,
   "metadata": {},
   "outputs": [
    {
     "data": {
      "text/plain": [
       "['bl']"
      ]
     },
     "execution_count": 19,
     "metadata": {},
     "output_type": "execute_result"
    }
   ],
   "source": [
    "low_coins"
   ]
  }
 ],
 "metadata": {
  "kernelspec": {
   "display_name": "Python 3",
   "language": "python",
   "name": "python3"
  },
  "language_info": {
   "codemirror_mode": {
    "name": "ipython",
    "version": 3
   },
   "file_extension": ".py",
   "mimetype": "text/x-python",
   "name": "python",
   "nbconvert_exporter": "python",
   "pygments_lexer": "ipython3",
   "version": "3.6.10"
  }
 },
 "nbformat": 4,
 "nbformat_minor": 4
}
